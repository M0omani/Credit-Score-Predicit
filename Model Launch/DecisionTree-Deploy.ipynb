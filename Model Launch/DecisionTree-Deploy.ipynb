{
 "cells": [
  {
   "cell_type": "code",
   "execution_count": 13,
   "metadata": {},
   "outputs": [],
   "source": [
    "import pandas as pd\n",
    "from DecisionTree import DecisionTree\n",
    "from sklearn.model_selection import train_test_split\n",
    "from TreeOperations import TreeOperations\n",
    "from sklearn.tree import DecisionTreeClassifier\n",
    "from scipy.stats import randint, uniform\n",
    "from Methods import Methods"
   ]
  },
  {
   "cell_type": "code",
   "execution_count": 2,
   "metadata": {},
   "outputs": [],
   "source": [
    "df = pd.read_csv(\"encoded_final.csv\")"
   ]
  },
  {
   "cell_type": "code",
   "execution_count": 5,
   "metadata": {},
   "outputs": [],
   "source": [
    "# Split the dataset into training, validation, and testing sets\n",
    "X = df.drop(columns = ['Credit_Score_encoded'])\n",
    "y = df['Credit_Score_encoded']\n",
    "X_train, X_temp, y_train, y_temp = train_test_split(X, y, test_size = 0.2, random_state = 42)\n",
    "X_val, X_test, y_val, y_test = train_test_split(X_temp, y_temp, test_size = 0.5, random_state = 42)"
   ]
  },
  {
   "cell_type": "markdown",
   "metadata": {},
   "source": [
    "# Decision Tree (pre- SMOTE)"
   ]
  },
  {
   "cell_type": "code",
   "execution_count": 6,
   "metadata": {},
   "outputs": [],
   "source": [
    "# Create an instance of the Decision Tree class\n",
    "tree1 = DecisionTree(X_train, y_train, X_val, y_val, X_test, y_test)"
   ]
  },
  {
   "cell_type": "code",
   "execution_count": 7,
   "metadata": {},
   "outputs": [
    {
     "name": "stdout",
     "output_type": "stream",
     "text": [
      "Decision Tree Classifier's validation accuracy is 0.747\n",
      "----------------------------------------------------------------------\n",
      "Decision Tree Classifier's validation classification report is:\n",
      "              precision    recall  f1-score   support\n",
      "\n",
      "           0       0.73      0.73      0.73      2894\n",
      "           1       0.77      0.77      0.77      5317\n",
      "           2       0.70      0.69      0.70      1789\n",
      "\n",
      "    accuracy                           0.75     10000\n",
      "   macro avg       0.73      0.73      0.73     10000\n",
      "weighted avg       0.75      0.75      0.75     10000\n",
      "\n",
      "====================================================================================================\n",
      "Decision Tree Classifier's testing accuracy is 0.7378\n",
      "----------------------------------------------------------------------\n",
      "Decision Tree Classifier's testing classification report is:\n",
      "              precision    recall  f1-score   support\n",
      "\n",
      "           0       0.73      0.72      0.72      2980\n",
      "           1       0.76      0.77      0.77      5282\n",
      "           2       0.69      0.66      0.67      1738\n",
      "\n",
      "    accuracy                           0.74     10000\n",
      "   macro avg       0.72      0.72      0.72     10000\n",
      "weighted avg       0.74      0.74      0.74     10000\n",
      "\n"
     ]
    }
   ],
   "source": [
    "Default_tree = tree1.Decision_Tree_Classic()"
   ]
  },
  {
   "cell_type": "markdown",
   "metadata": {},
   "source": [
    "# Decision Tree (Post- SMOTE)"
   ]
  },
  {
   "cell_type": "code",
   "execution_count": 10,
   "metadata": {},
   "outputs": [
    {
     "name": "stdout",
     "output_type": "stream",
     "text": [
      "Class Distribution Before SMOTE:\n",
      "{0: 23124, 1: 42575, 2: 14301}\n",
      "\n",
      "Class Distribution After SMOTE:\n",
      "{0: 42575, 1: 42575, 2: 42575}\n"
     ]
    }
   ],
   "source": [
    "model = DecisionTreeClassifier()\n",
    "methods_instance = Methods(model) # Pass any throwaway model just to make the instance work. \n",
    "#Make sure to create a different instance with the model that you actually want to perform operations on from the Methods class\n",
    "\n",
    "# Perform SMOTE balancing\n",
    "X_train_resampled, y_train_resampled = methods_instance.SMOTE_Balancing(X_train, y_train)"
   ]
  },
  {
   "cell_type": "code",
   "execution_count": 11,
   "metadata": {},
   "outputs": [],
   "source": [
    "# Create an insatnce of the Decision Tree class\n",
    "instance = DecisionTree(X_train_resampled, y_train_resampled, X_val, y_val, X_test, y_test)"
   ]
  },
  {
   "cell_type": "code",
   "execution_count": 12,
   "metadata": {},
   "outputs": [
    {
     "name": "stdout",
     "output_type": "stream",
     "text": [
      "Decision Tree Classifier's validation accuracy is 0.7266\n",
      "----------------------------------------------------------------------\n",
      "Decision Tree Classifier's validation classification report is:\n",
      "              precision    recall  f1-score   support\n",
      "\n",
      "           0       0.70      0.71      0.71      2894\n",
      "           1       0.76      0.75      0.76      5317\n",
      "           2       0.66      0.67      0.67      1789\n",
      "\n",
      "    accuracy                           0.73     10000\n",
      "   macro avg       0.71      0.71      0.71     10000\n",
      "weighted avg       0.73      0.73      0.73     10000\n",
      "\n",
      "====================================================================================================\n",
      "Decision Tree Classifier's testing accuracy is 0.7279\n",
      "----------------------------------------------------------------------\n",
      "Decision Tree Classifier's testing classification report is:\n",
      "              precision    recall  f1-score   support\n",
      "\n",
      "           0       0.70      0.73      0.72      2980\n",
      "           1       0.77      0.75      0.76      5282\n",
      "           2       0.66      0.67      0.67      1738\n",
      "\n",
      "    accuracy                           0.73     10000\n",
      "   macro avg       0.71      0.72      0.71     10000\n",
      "weighted avg       0.73      0.73      0.73     10000\n",
      "\n"
     ]
    }
   ],
   "source": [
    "tree_default = instance.Decision_Tree_Classic()"
   ]
  },
  {
   "cell_type": "code",
   "execution_count": 20,
   "metadata": {},
   "outputs": [],
   "source": [
    "# prune to find best ccp_alpha\n",
    "ds = DecisionTreeClassifier()\n",
    "oper = TreeOperations(ds,X_train_resampled, y_train_resampled, X_val, y_val, X_test, y_test )"
   ]
  },
  {
   "cell_type": "code",
   "execution_count": 21,
   "metadata": {},
   "outputs": [
    {
     "name": "stdout",
     "output_type": "stream",
     "text": [
      "The ccp alpha with the lowest impurity is 0.0\n",
      "Decision Tree Classifier's validation accuracy is 0.7266\n",
      "----------------------------------------------------------------------\n",
      "Decision Tree Classifier's validation classification report is: \n",
      "               precision    recall  f1-score   support\n",
      "\n",
      "           0       0.70      0.71      0.71      2894\n",
      "           1       0.76      0.75      0.76      5317\n",
      "           2       0.66      0.67      0.67      1789\n",
      "\n",
      "    accuracy                           0.73     10000\n",
      "   macro avg       0.71      0.71      0.71     10000\n",
      "weighted avg       0.73      0.73      0.73     10000\n",
      "\n",
      "====================================================================================================\n",
      "Decision Tree Classifier's testing accuracy is 0.7279\n",
      "----------------------------------------------------------------------\n",
      "Decision Tree Classifier's testing classification report is: \n",
      "               precision    recall  f1-score   support\n",
      "\n",
      "           0       0.70      0.73      0.72      2980\n",
      "           1       0.77      0.75      0.76      5282\n",
      "           2       0.66      0.67      0.67      1738\n",
      "\n",
      "    accuracy                           0.73     10000\n",
      "   macro avg       0.71      0.72      0.71     10000\n",
      "weighted avg       0.73      0.73      0.73     10000\n",
      "\n"
     ]
    },
    {
     "data": {
      "image/png": "[encoded data removed]",
      "text/plain": [
       "<Figure size 1000x600 with 1 Axes>"
      ]
     },
     "metadata": {},
     "output_type": "display_data"
    }
   ],
   "source": [
    "ds_pruned, lowest_impurity_alpha, min_impurity_idx = oper.cost_complexity_prune()"
   ]
  },
  {
   "cell_type": "code",
   "execution_count": 22,
   "metadata": {},
   "outputs": [],
   "source": [
    "param_dist = {\n",
    "    'ccp_alpha': [0],\n",
    "    'criterion': ['gini', 'entropy'],\n",
    "    'max_depth': [15, 20, 50, -1],\n",
    "    'max_features': ['auto', 'sqrt', 'log2', None]          \n",
    "}"
   ]
  },
  {
   "cell_type": "code",
   "execution_count": 23,
   "metadata": {},
   "outputs": [
    {
     "name": "stderr",
     "output_type": "stream",
     "text": [
      "c:\\Users\\Orange\\AppData\\Local\\Programs\\Python\\Python39\\lib\\site-packages\\sklearn\\model_selection\\_validation.py:425: FitFailedWarning: \n",
      "20 fits failed out of a total of 50.\n",
      "The score on these train-test partitions for these parameters will be set to nan.\n",
      "If these failures are not expected, you can try to debug them by setting error_score='raise'.\n",
      "\n",
      "Below are more details about the failures:\n",
      "--------------------------------------------------------------------------------\n",
      "13 fits failed with the following error:\n",
      "Traceback (most recent call last):\n",
      "  File \"c:\\Users\\Orange\\AppData\\Local\\Programs\\Python\\Python39\\lib\\site-packages\\sklearn\\model_selection\\_validation.py\", line 732, in _fit_and_score\n",
      "    estimator.fit(X_train, y_train, **fit_params)\n",
      "  File \"c:\\Users\\Orange\\AppData\\Local\\Programs\\Python\\Python39\\lib\\site-packages\\sklearn\\base.py\", line 1144, in wrapper\n",
      "    estimator._validate_params()\n",
      "  File \"c:\\Users\\Orange\\AppData\\Local\\Programs\\Python\\Python39\\lib\\site-packages\\sklearn\\base.py\", line 637, in _validate_params\n",
      "    validate_parameter_constraints(\n",
      "  File \"c:\\Users\\Orange\\AppData\\Local\\Programs\\Python\\Python39\\lib\\site-packages\\sklearn\\utils\\_param_validation.py\", line 95, in validate_parameter_constraints\n",
      "    raise InvalidParameterError(\n",
      "sklearn.utils._param_validation.InvalidParameterError: The 'max_features' parameter of DecisionTreeClassifier must be an int in the range [1, inf), a float in the range (0.0, 1.0], a str among {'sqrt', 'log2'} or None. Got 'auto' instead.\n",
      "\n",
      "--------------------------------------------------------------------------------\n",
      "7 fits failed with the following error:\n",
      "Traceback (most recent call last):\n",
      "  File \"c:\\Users\\Orange\\AppData\\Local\\Programs\\Python\\Python39\\lib\\site-packages\\sklearn\\model_selection\\_validation.py\", line 732, in _fit_and_score\n",
      "    estimator.fit(X_train, y_train, **fit_params)\n",
      "  File \"c:\\Users\\Orange\\AppData\\Local\\Programs\\Python\\Python39\\lib\\site-packages\\sklearn\\base.py\", line 1144, in wrapper\n",
      "    estimator._validate_params()\n",
      "  File \"c:\\Users\\Orange\\AppData\\Local\\Programs\\Python\\Python39\\lib\\site-packages\\sklearn\\base.py\", line 637, in _validate_params\n",
      "    validate_parameter_constraints(\n",
      "  File \"c:\\Users\\Orange\\AppData\\Local\\Programs\\Python\\Python39\\lib\\site-packages\\sklearn\\utils\\_param_validation.py\", line 95, in validate_parameter_constraints\n",
      "    raise InvalidParameterError(\n",
      "sklearn.utils._param_validation.InvalidParameterError: The 'max_features' parameter of DecisionTreeClassifier must be an int in the range [1, inf), a float in the range (0.0, 1.0], a str among {'log2', 'sqrt'} or None. Got 'auto' instead.\n",
      "\n",
      "  warnings.warn(some_fits_failed_message, FitFailedWarning)\n",
      "c:\\Users\\Orange\\AppData\\Local\\Programs\\Python\\Python39\\lib\\site-packages\\sklearn\\model_selection\\_search.py:976: UserWarning: One or more of the test scores are non-finite: [       nan 0.79725974        nan 0.77880603        nan 0.80157369\n",
      "        nan 0.75572519 0.80157369 0.79950675]\n",
      "  warnings.warn(\n"
     ]
    },
    {
     "name": "stdout",
     "output_type": "stream",
     "text": [
      "Decision Tree Classifier's validation accuracy (RandomizedSearchCV) is 0.7095\n",
      "----------------------------------------------------------------------\n",
      "Decision Tree Classifier's validation classification report (RandomizedSearchCV) is:\n",
      "              precision    recall  f1-score   support\n",
      "\n",
      "           0       0.69      0.71      0.70      2894\n",
      "           1       0.76      0.73      0.74      5317\n",
      "           2       0.62      0.65      0.63      1789\n",
      "\n",
      "    accuracy                           0.71     10000\n",
      "   macro avg       0.69      0.70      0.69     10000\n",
      "weighted avg       0.71      0.71      0.71     10000\n",
      "\n",
      "====================================================================================================\n",
      "Decision Tree Classifier's testing accuracy (RandomizedSearchCV) is 0.7216\n",
      "----------------------------------------------------------------------\n",
      "Decision Tree Classifier's testing classification report (RandomizedSearchCV) is:\n",
      "              precision    recall  f1-score   support\n",
      "\n",
      "           0       0.71      0.71      0.71      2980\n",
      "           1       0.76      0.75      0.75      5282\n",
      "           2       0.64      0.66      0.65      1738\n",
      "\n",
      "    accuracy                           0.72     10000\n",
      "   macro avg       0.70      0.71      0.70     10000\n",
      "weighted avg       0.72      0.72      0.72     10000\n",
      "\n"
     ]
    }
   ],
   "source": [
    "# Finding best parameters using RandomSearchCV\n",
    "best_dt_random, best_params_random = instance.Decision_Tree_RandomizedSearchCV(param_dist, cv = 5)"
   ]
  }
 ],
 "metadata": {
  "kernelspec": {
   "display_name": "Python 3",
   "language": "python",
   "name": "python3"
  },
  "language_info": {
   "codemirror_mode": {
    "name": "ipython",
    "version": 3
   },
   "file_extension": ".py",
   "mimetype": "text/x-python",
   "name": "python",
   "nbconvert_exporter": "python",
   "pygments_lexer": "ipython3",
   "version": "3.9.8"
  },
  "orig_nbformat": 4
 },
 "nbformat": 4,
 "nbformat_minor": 2
}
