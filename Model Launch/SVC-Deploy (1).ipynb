{
 "cells": [
  {
   "cell_type": "code",
   "execution_count": 1,
   "metadata": {},
   "outputs": [],
   "source": [
    "import pandas as pd\n",
    "import matplotlib.pyplot as plt\n",
    "from sklearn.model_selection import train_test_split\n",
    "import numpy as np\n",
    "from sklearn.preprocessing import StandardScaler\n",
    "from SVC import SupportVectorClassifier"
   ]
  },
  {
   "cell_type": "code",
   "execution_count": 2,
   "metadata": {},
   "outputs": [],
   "source": [
    "df = pd.read_csv(\"encoded_final.csv\")"
   ]
  },
  {
   "cell_type": "code",
   "execution_count": 3,
   "metadata": {},
   "outputs": [],
   "source": [
    "# Split the dataset into training, validation, and testing sets\n",
    "X = df.drop(columns = ['Credit_Score_encoded'])\n",
    "y = df['Credit_Score_encoded']\n",
    "X_train, X_temp, y_train, y_temp = train_test_split(X, y, test_size = 0.2, random_state = 42)\n",
    "X_val, X_test, y_val, y_test = train_test_split(X_temp, y_temp, test_size = 0.5, random_state = 42)"
   ]
  },
  {
   "cell_type": "code",
   "execution_count": 4,
   "metadata": {},
   "outputs": [],
   "source": [
    "# Scaling the data since we're using SVC\n",
    "# Create an instance of the scalar\n",
    "scaler = StandardScaler()\n",
    "# transform the data\n",
    "X_train_scaled = scaler.fit_transform(X_train)\n",
    "X_val_scaled = scaler.transform(X_val)\n",
    "X_test_scaled = scaler.transform(X_test)"
   ]
  },
  {
   "cell_type": "code",
   "execution_count": 5,
   "metadata": {},
   "outputs": [],
   "source": [
    "# Create an instance of the class\n",
    "svc_classifier = SupportVectorClassifier(X_train_scaled, y_train, X_val_scaled, y_val, X_test_scaled, y_test)\n"
   ]
  },
  {
   "cell_type": "code",
   "execution_count": 6,
   "metadata": {},
   "outputs": [
    {
     "name": "stdout",
     "output_type": "stream",
     "text": [
      "SVC's validation accuracy is 0.7334\n",
      "----------------------------------------------------------------------\n",
      "SVC's validation classification report is:\n",
      "              precision    recall  f1-score   support\n",
      "\n",
      "           0       0.76      0.69      0.72      2894\n",
      "           1       0.77      0.77      0.77      5317\n",
      "           2       0.60      0.70      0.65      1789\n",
      "\n",
      "    accuracy                           0.73     10000\n",
      "   macro avg       0.71      0.72      0.71     10000\n",
      "weighted avg       0.74      0.73      0.73     10000\n",
      "\n",
      "====================================================================================================\n",
      "SVC's testing accuracy is 0.7333\n",
      "----------------------------------------------------------------------\n",
      "SVC's testing classification report is:\n",
      "              precision    recall  f1-score   support\n",
      "\n",
      "           0       0.76      0.69      0.73      2980\n",
      "           1       0.77      0.76      0.77      5282\n",
      "           2       0.61      0.71      0.65      1738\n",
      "\n",
      "    accuracy                           0.73     10000\n",
      "   macro avg       0.71      0.72      0.72     10000\n",
      "weighted avg       0.74      0.73      0.73     10000\n",
      "\n"
     ]
    }
   ],
   "source": [
    "# Method 1: SVC with default parameters\n",
    "classic_svc_model = svc_classifier.SVC_Classic()"
   ]
  },
  {
   "cell_type": "code",
   "execution_count": 7,
   "metadata": {},
   "outputs": [
    {
     "name": "stdout",
     "output_type": "stream",
     "text": [
      "SVC's validation accuracy (RandomizedSearchCV) is 0.781\n",
      "----------------------------------------------------------------------\n",
      "SVC's validation classification report (RandomizedSearchCV) is:\n",
      "              precision    recall  f1-score   support\n",
      "\n",
      "           0       0.78      0.78      0.78      2894\n",
      "           1       0.81      0.80      0.81      5317\n",
      "           2       0.70      0.72      0.71      1789\n",
      "\n",
      "    accuracy                           0.78     10000\n",
      "   macro avg       0.76      0.77      0.77     10000\n",
      "weighted avg       0.78      0.78      0.78     10000\n",
      "\n",
      "====================================================================================================\n",
      "SVC's testing accuracy (RandomizedSearchCV) is 0.7869\n",
      "----------------------------------------------------------------------\n",
      "SVC's testing classification report (RandomizedSearchCV) is:\n",
      "              precision    recall  f1-score   support\n",
      "\n",
      "           0       0.79      0.79      0.79      2980\n",
      "           1       0.82      0.80      0.81      5282\n",
      "           2       0.70      0.75      0.72      1738\n",
      "\n",
      "    accuracy                           0.79     10000\n",
      "   macro avg       0.77      0.78      0.77     10000\n",
      "weighted avg       0.79      0.79      0.79     10000\n",
      "\n"
     ]
    }
   ],
   "source": [
    "# Method 3: SVC with Best Parameters (RandomSearchCV)\n",
    "random_search_params = {\n",
    "    'kernel': ['poly', 'rbf', 'sigmoid'],\n",
    "    'C': [0.1, 0.5, 1, 5, 10],\n",
    "    'gamma': ['scale', 'auto', 0.01, 0.1, 1.0, 10.0, 100.0] \n",
    "}\n",
    "\n",
    "# Perform RandomizedSearchCV\n",
    "best_svc_random, best_params_random = svc_classifier.SVC_RandomizedSearchCV(random_search_params, cv = 5)\n"
   ]
  }
 ],
 "metadata": {
  "kernelspec": {
   "display_name": "Python 3",
   "language": "python",
   "name": "python3"
  },
  "language_info": {
   "codemirror_mode": {
    "name": "ipython",
    "version": 3
   },
   "file_extension": ".py",
   "mimetype": "text/x-python",
   "name": "python",
   "nbconvert_exporter": "python",
   "pygments_lexer": "ipython3",
   "version": "3.11.4"
  },
  "orig_nbformat": 4
 },
 "nbformat": 4,
 "nbformat_minor": 2
}
