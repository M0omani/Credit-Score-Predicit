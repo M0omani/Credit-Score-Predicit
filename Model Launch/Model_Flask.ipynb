{
 "cells": [
  {
   "cell_type": "code",
   "execution_count": 1,
   "metadata": {},
   "outputs": [],
   "source": [
    "import pandas as pd\n",
    "import pickle\n",
    "from sklearn.ensemble import RandomForestClassifier\n",
    "from Methods import Methods\n",
    "from RandomForest import RandomForest\n",
    "from sklearn.model_selection import train_test_split\n",
    "from sklearn.metrics import mean_squared_error, accuracy_score, classification_report"
   ]
  },
  {
   "cell_type": "code",
   "execution_count": 2,
   "metadata": {},
   "outputs": [],
   "source": [
    "df = pd.read_csv(\"ForFlask.csv\")"
   ]
  },
  {
   "cell_type": "code",
   "execution_count": 4,
   "metadata": {},
   "outputs": [],
   "source": [
    "# Using Stratify\n",
    "X_stratify = df.drop(columns=['Credit_Score_encoded'])\n",
    "y_stratify = df['Credit_Score_encoded']\n",
    "\n",
    "# Split the data into train, validation, and test sets with stratification\n",
    "X_train_stra, X_temp_stra, y_train_stra, y_temp_stra = train_test_split(X_stratify, y_stratify, test_size = 0.2, random_state = 42, stratify = y_stratify)\n",
    "X_val_stra, X_test_stra, y_val_stra, y_test_stra = train_test_split(X_temp_stra, y_temp_stra, test_size = 0.5, random_state = 42, stratify = y_temp_stra)\n"
   ]
  },
  {
   "cell_type": "code",
   "execution_count": 5,
   "metadata": {},
   "outputs": [
    {
     "name": "stdout",
     "output_type": "stream",
     "text": [
      "Random Forest Classifier's validation accuracy is 0.8392\n",
      "----------------------------------------------------------------------\n",
      "Random Forest Classifier's validation classification report is: \n",
      "               precision    recall  f1-score   support\n",
      "\n",
      "           0       0.81      0.87      0.84      2900\n",
      "           1       0.86      0.83      0.85      5317\n",
      "           2       0.82      0.82      0.82      1783\n",
      "\n",
      "    accuracy                           0.84     10000\n",
      "   macro avg       0.83      0.84      0.83     10000\n",
      "weighted avg       0.84      0.84      0.84     10000\n",
      "\n",
      "====================================================================================================\n",
      "Random Forest Classifier's testing accuracy is 0.8437\n",
      "----------------------------------------------------------------------\n",
      "Random Forest Classifier's testing classification report is: \n",
      "               precision    recall  f1-score   support\n",
      "\n",
      "           0       0.83      0.87      0.85      2899\n",
      "           1       0.87      0.84      0.85      5318\n",
      "           2       0.81      0.81      0.81      1783\n",
      "\n",
      "    accuracy                           0.84     10000\n",
      "   macro avg       0.83      0.84      0.84     10000\n",
      "weighted avg       0.84      0.84      0.84     10000\n",
      "\n"
     ]
    }
   ],
   "source": [
    "# Using RF with best parameters (GridSearchCV)\n",
    "Random_Forest_stra = RandomForestClassifier(max_depth = None,\n",
    " max_features = 'sqrt',\n",
    " min_samples_leaf = 1,\n",
    " min_samples_split = 2,\n",
    " n_estimators = 300, random_state = 42)\n",
    "\n",
    "Random_Forest_stra.fit(X_train_stra, y_train_stra)\n",
    "        \n",
    "# Validation\n",
    "pred_val_stra = Random_Forest_stra.predict(X_val_stra)\n",
    "# Evaluating validation\n",
    "# Accuracy\n",
    "accuracy_val_stra = accuracy_score(y_val_stra, pred_val_stra)\n",
    "# Classification report\n",
    "report_val_stra = classification_report(y_val_stra, pred_val_stra)\n",
    "\n",
    "# Testing\n",
    "pred_test_stra = Random_Forest_stra.predict(X_test_stra)\n",
    "# Evaluating testing\n",
    "# Accuracy\n",
    "accuracy_test_stra = accuracy_score(y_test_stra, pred_test_stra)\n",
    "# Classification report\n",
    "report_test_stra = classification_report(y_test_stra, pred_test_stra) \n",
    "\n",
    "# Printing the results\n",
    "print(f\"Random Forest Classifier's validation accuracy is {accuracy_val_stra}\")\n",
    "print(\"-\"*70)\n",
    "print(f\"Random Forest Classifier's validation classification report is: \\n {report_val_stra}\")\n",
    "print(\"=\"*100)\n",
    "print(f\"Random Forest Classifier's testing accuracy is {accuracy_test_stra}\")\n",
    "print(\"-\"*70)\n",
    "print(f\"Random Forest Classifier's testing classification report is: \\n {report_test_stra}\")"
   ]
  },
  {
   "cell_type": "code",
   "execution_count": 6,
   "metadata": {},
   "outputs": [],
   "source": [
    "# Saving the model to a pkl file to deploy into a webpage using Flask\n",
    "with open('RFClassifierNewEncoding.pkl', 'wb') as model_file:\n",
    "    pickle.dump(Random_Forest_stra, model_file)"
   ]
  }
 ],
 "metadata": {
  "kernelspec": {
   "display_name": "Python 3",
   "language": "python",
   "name": "python3"
  },
  "language_info": {
   "codemirror_mode": {
    "name": "ipython",
    "version": 3
   },
   "file_extension": ".py",
   "mimetype": "text/x-python",
   "name": "python",
   "nbconvert_exporter": "python",
   "pygments_lexer": "ipython3",
   "version": "3.9.8"
  },
  "orig_nbformat": 4
 },
 "nbformat": 4,
 "nbformat_minor": 2
}
